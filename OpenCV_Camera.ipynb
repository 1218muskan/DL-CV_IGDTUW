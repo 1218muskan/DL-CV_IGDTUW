{
 "cells": [
  {
   "cell_type": "code",
   "execution_count": 1,
   "id": "f87be8c4",
   "metadata": {},
   "outputs": [
    {
     "name": "stdout",
     "output_type": "stream",
     "text": [
      "Requirement already satisfied: opencv-python in c:\\users\\muskan\\anaconda3\\lib\\site-packages (4.6.0.66)\n",
      "Requirement already satisfied: numpy>=1.17.3 in c:\\users\\muskan\\anaconda3\\lib\\site-packages (from opencv-python) (1.20.1)\n"
     ]
    }
   ],
   "source": [
    "!python -m pip install opencv-python"
   ]
  },
  {
   "cell_type": "code",
   "execution_count": 1,
   "id": "41761514",
   "metadata": {},
   "outputs": [],
   "source": [
    "import cv2"
   ]
  },
  {
   "cell_type": "code",
   "execution_count": 3,
   "id": "6c6b077b",
   "metadata": {},
   "outputs": [],
   "source": [
    "img = cv2.imread('children.jpg')"
   ]
  },
  {
   "cell_type": "code",
   "execution_count": 4,
   "id": "05367f2d",
   "metadata": {},
   "outputs": [
    {
     "data": {
      "text/plain": [
       "(339, 509, 3)"
      ]
     },
     "execution_count": 4,
     "metadata": {},
     "output_type": "execute_result"
    }
   ],
   "source": [
    "img.shape\n",
    "\n",
    "# (no. of rows, no. of columns, RGB values)"
   ]
  },
  {
   "cell_type": "code",
   "execution_count": 5,
   "id": "69770a49",
   "metadata": {},
   "outputs": [
    {
     "data": {
      "text/plain": [
       "-1"
      ]
     },
     "execution_count": 5,
     "metadata": {},
     "output_type": "execute_result"
    }
   ],
   "source": [
    "cv2.imshow('res', img)\n",
    "cv2.waitKey(0)"
   ]
  },
  {
   "cell_type": "code",
   "execution_count": 8,
   "id": "4c7e657e",
   "metadata": {},
   "outputs": [],
   "source": [
    "# 0 - for default camera\n",
    "# 1 - secondary camera\n",
    "# cv2.VideoCapture(0)\n",
    "# cv2.VideoCapture('Path_to_video')\n",
    "\n",
    "cap = cv2.VideoCapture(0)\n",
    "i = 0\n",
    "while True:\n",
    "    \n",
    "    # flag - True or False (whether cam is available or not)\n",
    "    # frame - one frame at a time\n",
    "    flag, frame = cap.read()\n",
    "    \n",
    "    if flag:\n",
    "        cv2.imwrite(f'images/img_{i}.png', frame)\n",
    "        cv2.imshow('result',frame)\n",
    "        if cv2.waitKey(1) == 27:     # 27 - Ascii value of ESC\n",
    "            break\n",
    "            \n",
    "        i += 1\n",
    "            \n",
    "    else:\n",
    "        print(\"Camera is not available...\")\n",
    "        break\n",
    "        \n",
    "# releasing camera (so that camera can be used by any other application)\n",
    "cap.release()\n",
    "cv2.destroyAllWindows()"
   ]
  },
  {
   "cell_type": "markdown",
   "id": "eaca4a0e",
   "metadata": {},
   "source": [
    "**Filters:**<br>\n",
    "3 types of filters:\n",
    "- Gaussian Blur\n",
    "- Erosion Blur\n",
    "- Dilation Blur\n",
    "\n",
    "\n",
    "*Blurring* - Smoothing of Image<br>\n",
    "Blurring methods:\n",
    "   - Average Blurring :   ```cv2.blur(frame,(5,5))```\n",
    "   \n",
    "   - Gaussian Blurring :   ```cv2.GaussianBlur(frame,(5,5), 0)```\n",
    "   \n",
    "   - Median Blurring :   ```cv2.medianBlur(frame,5)```\n",
    "   \n",
    "   - Bilateral Blurring :   ```cv2.bilateralFilter(img,9,75,75)```\n",
    "\n",
    "\n",
    "\n",
    "\n",
    "Blurring Documentation : https://docs.opencv.org/4.x/d4/d13/tutorial_py_filtering.html"
   ]
  },
  {
   "cell_type": "code",
   "execution_count": 14,
   "id": "fb3998f9",
   "metadata": {},
   "outputs": [],
   "source": [
    "cap = cv2.VideoCapture(0)\n",
    "while True:\n",
    "    flag, frame = cap.read()\n",
    "    blur = cv2.GaussianBlur(frame, (11,11), 0)\n",
    "    \n",
    "    if flag:\n",
    "        cv2.imshow('original result',frame)\n",
    "        cv2.imshow('blur result', blur)\n",
    "        \n",
    "        if cv2.waitKey(1) == 27:     \n",
    "            break\n",
    "            \n",
    "    else:\n",
    "        print(\"Camera is not available...\")\n",
    "        break\n",
    "        \n",
    "cap.release()\n",
    "cv2.destroyAllWindows()"
   ]
  },
  {
   "cell_type": "markdown",
   "id": "8eaca122",
   "metadata": {},
   "source": [
    "**Filters** : *Edge Detection*<br>\n",
    "(Edge : Sudden change in pixel intensity)\n",
    "\n",
    "2 popular techniques for edge detection:\n",
    "- Sobel Filter :\n",
    "  1. Convert image to graysacle\n",
    "  2. convolve the image with sobel-x filter\n",
    "  3. convolve the image with sobel-y filter\n",
    "  4. calculate gradient magnitutde and direction\n",
    "\n",
    "\n",
    "\n",
    "- Canny Edge detection\n",
    "  1. Blurring the grayscale images using gaussian blur (to filter out the noise)\n",
    "  2. find the strength and direction of edges using sobel filter\n",
    "  3. Non-max suppression (https://towardsdatascience.com/non-maximum-suppression-nms-93ce178e177c)\n",
    "\n",
    "\n",
    "<br>\n",
    "Canny edge detection is little bit time taking"
   ]
  },
  {
   "cell_type": "code",
   "execution_count": 2,
   "id": "8d96a349",
   "metadata": {},
   "outputs": [],
   "source": [
    "cap = cv2.VideoCapture(0)\n",
    "while True:\n",
    "    flag, frame = cap.read()\n",
    "    blur = cv2.GaussianBlur(frame, (11,11), 0)\n",
    "    gray = cv2.cvtColor(blur, cv2.COLOR_BGR2GRAY)\n",
    "    \n",
    "    # recommended to use blur image\n",
    "    sobel_blur1 = cv2.Sobel(gray, cv2.CV_64F, dx=1, dy=0, ksize = 5)\n",
    "    sobel_blur2 = cv2.Sobel(gray, cv2.CV_64F, dx=1, dy=1, ksize = 5)\n",
    "    # dx=1, dy=0 -> compute the 1st derivative sobel image in x-direction\n",
    "    # dx=1, dy=1 -> compute the 1st derivative sobel image in both directions\n",
    "    \n",
    "    canny_blur1 = cv2.Canny(gray, 100, 200)\n",
    "    \n",
    "    if flag:\n",
    "        cv2.imshow('original result',frame)\n",
    "        cv2.imshow('sobel blur 1', sobel_blur1)\n",
    "        cv2.imshow('sobel blur 2', sobel_blur2)\n",
    "        cv2.imshow('canny blur with edge', canny_blur1)\n",
    "        \n",
    "        if cv2.waitKey(1) == 27:     \n",
    "            break\n",
    "            \n",
    "    else:\n",
    "        print(\"Camera is not available...\")\n",
    "        break\n",
    "        \n",
    "cap.release()\n",
    "cv2.destroyAllWindows()"
   ]
  },
  {
   "cell_type": "markdown",
   "id": "33d47a6b",
   "metadata": {},
   "source": []
  }
 ],
 "metadata": {
  "kernelspec": {
   "display_name": "Python 3",
   "language": "python",
   "name": "python3"
  },
  "language_info": {
   "codemirror_mode": {
    "name": "ipython",
    "version": 3
   },
   "file_extension": ".py",
   "mimetype": "text/x-python",
   "name": "python",
   "nbconvert_exporter": "python",
   "pygments_lexer": "ipython3",
   "version": "3.8.8"
  }
 },
 "nbformat": 4,
 "nbformat_minor": 5
}
