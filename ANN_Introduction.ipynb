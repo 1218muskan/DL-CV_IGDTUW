{
  "nbformat": 4,
  "nbformat_minor": 0,
  "metadata": {
    "colab": {
      "name": "ANN_Introduction.ipynb",
      "provenance": [],
      "authorship_tag": "ABX9TyOb8zvqzwvcRJlHvpJDQwI0",
      "include_colab_link": true
    },
    "kernelspec": {
      "name": "python3",
      "display_name": "Python 3"
    },
    "language_info": {
      "name": "python"
    }
  },
  "cells": [
    {
      "cell_type": "markdown",
      "metadata": {
        "id": "view-in-github",
        "colab_type": "text"
      },
      "source": [
        "<a href=\"https://colab.research.google.com/github/1218muskan/DL-CV_IGDTUW/blob/main/ANN_Introduction.ipynb\" target=\"_parent\"><img src=\"https://colab.research.google.com/assets/colab-badge.svg\" alt=\"Open In Colab\"/></a>"
      ]
    },
    {
      "cell_type": "code",
      "execution_count": 1,
      "metadata": {
        "id": "yrFlTVIsGrw3"
      },
      "outputs": [],
      "source": [
        "import numpy as np"
      ]
    },
    {
      "cell_type": "code",
      "source": [
        "# X : Input\n",
        "# Y : Output (Binary Classification)\n",
        "\n",
        "X = np.array([[1,0,1,0], [1,0,1,1], [0,1,0,1]])\n",
        "Y = np.array([[1],[1],[0]])"
      ],
      "metadata": {
        "id": "0yBrsnI2Gusn"
      },
      "execution_count": 2,
      "outputs": []
    },
    {
      "cell_type": "code",
      "source": [
        "X"
      ],
      "metadata": {
        "colab": {
          "base_uri": "https://localhost:8080/"
        },
        "id": "L-3dQ7TQG_ee",
        "outputId": "b2127f46-2c1f-451d-b71a-6360cceb059d"
      },
      "execution_count": 3,
      "outputs": [
        {
          "output_type": "execute_result",
          "data": {
            "text/plain": [
              "array([[1, 0, 1, 0],\n",
              "       [1, 0, 1, 1],\n",
              "       [0, 1, 0, 1]])"
            ]
          },
          "metadata": {},
          "execution_count": 3
        }
      ]
    },
    {
      "cell_type": "code",
      "source": [
        "X.shape\n",
        "# (3,4) -> 3 data rows, 4 features"
      ],
      "metadata": {
        "colab": {
          "base_uri": "https://localhost:8080/"
        },
        "id": "VUcP2wq3p7ll",
        "outputId": "71cd0172-f975-4ea3-f180-6e89b395a5b2"
      },
      "execution_count": 4,
      "outputs": [
        {
          "output_type": "execute_result",
          "data": {
            "text/plain": [
              "(3, 4)"
            ]
          },
          "metadata": {},
          "execution_count": 4
        }
      ]
    },
    {
      "cell_type": "code",
      "source": [
        "Y\n",
        "# (3,1)"
      ],
      "metadata": {
        "colab": {
          "base_uri": "https://localhost:8080/"
        },
        "id": "JAvgRZ50HAOg",
        "outputId": "b2741471-f8ac-4722-a89c-2a86eff09c93"
      },
      "execution_count": 5,
      "outputs": [
        {
          "output_type": "execute_result",
          "data": {
            "text/plain": [
              "array([[1],\n",
              "       [1],\n",
              "       [0]])"
            ]
          },
          "metadata": {},
          "execution_count": 5
        }
      ]
    },
    {
      "cell_type": "code",
      "source": [
        "input_neurons = X.shape[1]\n",
        "hidden_neurons = 3\n",
        "output_neurons = 1\n",
        "\n",
        "# 4:3:1"
      ],
      "metadata": {
        "id": "_bWjNpaDHAuD"
      },
      "execution_count": 6,
      "outputs": []
    },
    {
      "cell_type": "code",
      "source": [
        "# for Feed Forward\n",
        "def sigmoid(x):\n",
        "  return 1 / (1 + np.exp(-x))\n",
        "\n",
        "# for Back propagation\n",
        "def derivativeSigmoid(x):\n",
        "  return x * (1 - x)"
      ],
      "metadata": {
        "id": "BTujj7onHRDP"
      },
      "execution_count": 7,
      "outputs": []
    },
    {
      "cell_type": "markdown",
      "source": [
        "#### Intializing Weights"
      ],
      "metadata": {
        "id": "BebX_7CFtam_"
      }
    },
    {
      "cell_type": "code",
      "source": [
        "# Intialising weights and bias using random values\n",
        "\n",
        "# Hidden layer weights -> (4,3)\n",
        "weightHidden = np.random.uniform(size=(input_neurons, hidden_neurons))\n",
        "# Output layer weights -> (3,1)\n",
        "weightOutput = np.random.uniform(size=(hidden_neurons, output_neurons))\n",
        "\n",
        "# bias -> (1, neurons in nextLayer)\n",
        "biasHidden = np.random.uniform(size=(1, hidden_neurons))\n",
        "biasOutput = np.random.uniform(size=(1, output_neurons))"
      ],
      "metadata": {
        "id": "CddDX-QjHm__"
      },
      "execution_count": 8,
      "outputs": []
    },
    {
      "cell_type": "code",
      "source": [
        "weightHidden"
      ],
      "metadata": {
        "colab": {
          "base_uri": "https://localhost:8080/"
        },
        "id": "-Wlb6bKvIJQ3",
        "outputId": "a0286957-d630-499a-f9f6-db37c21be65f"
      },
      "execution_count": 9,
      "outputs": [
        {
          "output_type": "execute_result",
          "data": {
            "text/plain": [
              "array([[0.37494973, 0.99716859, 0.31274287],\n",
              "       [0.51493397, 0.74330273, 0.55136737],\n",
              "       [0.9349836 , 0.50463804, 0.79776118],\n",
              "       [0.40753439, 0.21111208, 0.96316355]])"
            ]
          },
          "metadata": {},
          "execution_count": 9
        }
      ]
    },
    {
      "cell_type": "code",
      "source": [
        "weightOutput"
      ],
      "metadata": {
        "colab": {
          "base_uri": "https://localhost:8080/"
        },
        "id": "fksbL84lINuZ",
        "outputId": "18cb3456-fd89-4249-d342-876f1b116d2e"
      },
      "execution_count": 10,
      "outputs": [
        {
          "output_type": "execute_result",
          "data": {
            "text/plain": [
              "array([[0.82030322],\n",
              "       [0.46430446],\n",
              "       [0.81425622]])"
            ]
          },
          "metadata": {},
          "execution_count": 10
        }
      ]
    },
    {
      "cell_type": "code",
      "source": [
        "epochs = 1000\n",
        "alpha = 0.01"
      ],
      "metadata": {
        "id": "BkHHEGdYMQOv"
      },
      "execution_count": 26,
      "outputs": []
    },
    {
      "cell_type": "code",
      "source": [
        ""
      ],
      "metadata": {
        "id": "WJjsWtdJMTis"
      },
      "execution_count": null,
      "outputs": []
    },
    {
      "cell_type": "markdown",
      "source": [
        "### Feed Forward"
      ],
      "metadata": {
        "id": "WvNplmk5tNLy"
      }
    },
    {
      "cell_type": "code",
      "source": [
        "# InputLayer -> HiddenLayer\n",
        "fx = np.dot(X, weightHidden) + biasHidden"
      ],
      "metadata": {
        "id": "C8apqAUWIPW_"
      },
      "execution_count": 11,
      "outputs": []
    },
    {
      "cell_type": "code",
      "source": [
        "fx"
      ],
      "metadata": {
        "colab": {
          "base_uri": "https://localhost:8080/"
        },
        "id": "oH-m4ieSIdJj",
        "outputId": "33fa40fe-b98e-4be8-ac1d-798f81e64769"
      },
      "execution_count": 12,
      "outputs": [
        {
          "output_type": "execute_result",
          "data": {
            "text/plain": [
              "array([[1.82046249, 1.80377257, 2.05442523],\n",
              "       [2.22799688, 2.01488465, 3.01758878],\n",
              "       [1.43299752, 1.25638075, 2.4584521 ]])"
            ]
          },
          "metadata": {},
          "execution_count": 12
        }
      ]
    },
    {
      "cell_type": "code",
      "source": [
        "hiddenLayer = sigmoid(fx)"
      ],
      "metadata": {
        "id": "mBs41UrCIdt_"
      },
      "execution_count": 13,
      "outputs": []
    },
    {
      "cell_type": "code",
      "source": [
        "hiddenLayer\n",
        "# results between 0-1"
      ],
      "metadata": {
        "colab": {
          "base_uri": "https://localhost:8080/"
        },
        "id": "hlAjfSQJIkn_",
        "outputId": "eaa5d04c-1465-42ee-c02b-59d3ebb5fa05"
      },
      "execution_count": 14,
      "outputs": [
        {
          "output_type": "execute_result",
          "data": {
            "text/plain": [
              "array([[0.86062161, 0.85860755, 0.886394  ],\n",
              "       [0.90273562, 0.88235103, 0.95336243],\n",
              "       [0.80736793, 0.77840245, 0.92117734]])"
            ]
          },
          "metadata": {},
          "execution_count": 14
        }
      ]
    },
    {
      "cell_type": "code",
      "source": [
        "# HiddenLayer -> OututLayer\n",
        "fx1 = np.dot(hiddenLayer, weightOutput) + biasOutput\n",
        "outputLayer = sigmoid(fx1)"
      ],
      "metadata": {
        "id": "g7kMtNNOImAo"
      },
      "execution_count": 15,
      "outputs": []
    },
    {
      "cell_type": "code",
      "source": [
        "outputLayer"
      ],
      "metadata": {
        "colab": {
          "base_uri": "https://localhost:8080/"
        },
        "id": "Pi2TVKC2IzA_",
        "outputId": "2d3a1733-5c31-4503-d7ed-7b629cb4a057"
      },
      "execution_count": 16,
      "outputs": [
        {
          "output_type": "execute_result",
          "data": {
            "text/plain": [
              "array([[0.92083094],\n",
              "       [0.92782778],\n",
              "       [0.91691036]])"
            ]
          },
          "metadata": {},
          "execution_count": 16
        }
      ]
    },
    {
      "cell_type": "code",
      "source": [
        ""
      ],
      "metadata": {
        "id": "xz0ZSwqCtwjt"
      },
      "execution_count": null,
      "outputs": []
    },
    {
      "cell_type": "markdown",
      "source": [
        "### Back Propagation\n",
        "\n",
        "Calculate:\n",
        "- Error\n",
        "- Slope\n",
        "- Delta"
      ],
      "metadata": {
        "id": "OX8TPD_ctrT1"
      }
    },
    {
      "cell_type": "markdown",
      "source": [
        "#### Ouput Layer"
      ],
      "metadata": {
        "id": "Hq-tRs9zu7sy"
      }
    },
    {
      "cell_type": "code",
      "source": [
        "# Error at Output Layer\n",
        "errorOutput = Y - outputLayer"
      ],
      "metadata": {
        "id": "w36V7T4RI0Ub"
      },
      "execution_count": 17,
      "outputs": []
    },
    {
      "cell_type": "code",
      "source": [
        "errorOutput"
      ],
      "metadata": {
        "colab": {
          "base_uri": "https://localhost:8080/"
        },
        "id": "VGKzWyZnJ-EP",
        "outputId": "48c982b3-ec51-4f42-dd66-62f77aee1333"
      },
      "execution_count": 18,
      "outputs": [
        {
          "output_type": "execute_result",
          "data": {
            "text/plain": [
              "array([[ 0.07916906],\n",
              "       [ 0.07217222],\n",
              "       [-0.91691036]])"
            ]
          },
          "metadata": {},
          "execution_count": 18
        }
      ]
    },
    {
      "cell_type": "code",
      "source": [
        "# Slope of Output Layer\n",
        "slopeOutput = derivativeSigmoid(outputLayer)"
      ],
      "metadata": {
        "id": "UGT3uRKLJ_aG"
      },
      "execution_count": 19,
      "outputs": []
    },
    {
      "cell_type": "code",
      "source": [
        "slopeOutput"
      ],
      "metadata": {
        "colab": {
          "base_uri": "https://localhost:8080/"
        },
        "id": "rT5h18EDKF_5",
        "outputId": "caa40a67-10f2-445f-ae33-dbfeb6b71ba2"
      },
      "execution_count": 20,
      "outputs": [
        {
          "output_type": "execute_result",
          "data": {
            "text/plain": [
              "array([[0.07290132],\n",
              "       [0.06696339],\n",
              "       [0.07618575]])"
            ]
          },
          "metadata": {},
          "execution_count": 20
        }
      ]
    },
    {
      "cell_type": "code",
      "source": [
        "# Delta at output layer\n",
        "deltaOutput = errorOutput * slopeOutput"
      ],
      "metadata": {
        "id": "nbFA8sMOKIEs"
      },
      "execution_count": 21,
      "outputs": []
    },
    {
      "cell_type": "code",
      "source": [
        "deltaOutput"
      ],
      "metadata": {
        "colab": {
          "base_uri": "https://localhost:8080/"
        },
        "id": "SlRJqesKKMtJ",
        "outputId": "cb5688d6-9a18-436b-d3bb-aa6da5dec95d"
      },
      "execution_count": 22,
      "outputs": [
        {
          "output_type": "execute_result",
          "data": {
            "text/plain": [
              "array([[ 0.00577153],\n",
              "       [ 0.0048329 ],\n",
              "       [-0.0698555 ]])"
            ]
          },
          "metadata": {},
          "execution_count": 22
        }
      ]
    },
    {
      "cell_type": "markdown",
      "source": [
        "#### Hidden Layer"
      ],
      "metadata": {
        "id": "UA-IIio3vC3p"
      }
    },
    {
      "cell_type": "code",
      "source": [
        "weightOutput.T"
      ],
      "metadata": {
        "colab": {
          "base_uri": "https://localhost:8080/"
        },
        "id": "x3yb7X6xveSh",
        "outputId": "1a9ca7b8-725c-4c82-de7e-4bc140f39068"
      },
      "execution_count": 23,
      "outputs": [
        {
          "output_type": "execute_result",
          "data": {
            "text/plain": [
              "array([[0.82030322, 0.46430446, 0.81425622]])"
            ]
          },
          "metadata": {},
          "execution_count": 23
        }
      ]
    },
    {
      "cell_type": "code",
      "source": [
        "# error at Hidden layer\n",
        "errorHidden = deltaOutput.dot(weightOutput.T) "
      ],
      "metadata": {
        "id": "9tMIgyHfKOIY"
      },
      "execution_count": 24,
      "outputs": []
    },
    {
      "cell_type": "code",
      "source": [
        "# Slope aat Hidden layer\n",
        "slopeHidden = derivativeSigmoid(hiddenLayer)\n",
        "# Delta at Hidden Layer\n",
        "deltaHidden = errorHidden * slopeHidden"
      ],
      "metadata": {
        "id": "PUzWTooLK1-F"
      },
      "execution_count": 25,
      "outputs": []
    },
    {
      "cell_type": "markdown",
      "source": [
        "### Optimization\n",
        "Updation of weights"
      ],
      "metadata": {
        "id": "FeHqpx0ovwfZ"
      }
    },
    {
      "cell_type": "code",
      "source": [
        "weightOutput = weightOutput - hiddenLayer.T.dot(deltaOutput) * alpha"
      ],
      "metadata": {
        "id": "2xdtdcJOLADN"
      },
      "execution_count": 27,
      "outputs": []
    },
    {
      "cell_type": "code",
      "source": [
        "weightOutput"
      ],
      "metadata": {
        "colab": {
          "base_uri": "https://localhost:8080/"
        },
        "id": "7HHADJrLMHzw",
        "outputId": "9215e58c-1c88-4708-a4d0-61dc54ae541c"
      },
      "execution_count": 28,
      "outputs": [
        {
          "output_type": "execute_result",
          "data": {
            "text/plain": [
              "array([[0.82077391],\n",
              "       [0.46475601],\n",
              "       [0.81480248]])"
            ]
          },
          "metadata": {},
          "execution_count": 28
        }
      ]
    },
    {
      "cell_type": "code",
      "source": [
        "weightHidden = weightHidden - X.T.dot(deltaHidden) * alpha"
      ],
      "metadata": {
        "id": "zVsfrzKoMWRH"
      },
      "execution_count": 29,
      "outputs": []
    },
    {
      "cell_type": "code",
      "source": [
        "biasOutput = biasOutput - np.sum(deltaOutput) * alpha\n",
        "biasHidden = biasHidden - np.sum(deltaHidden) * alpha"
      ],
      "metadata": {
        "id": "93yCqHXnMctg"
      },
      "execution_count": 30,
      "outputs": []
    },
    {
      "cell_type": "markdown",
      "source": [
        "### Final Code\n",
        "Summing up above calculations"
      ],
      "metadata": {
        "id": "R2m9VQT_ts62"
      }
    },
    {
      "cell_type": "code",
      "source": [
        "# Initialization of weights\n",
        "weightHidden = np.random.uniform(size=(input_neurons, hidden_neurons))\n",
        "weightOutput = np.random.uniform(size=(hidden_neurons, output_neurons))\n",
        "biasHidden = np.random.uniform(size=(1, hidden_neurons))\n",
        "biasOutput = np.random.uniform(size=(1, output_neurons))\n",
        "\n",
        "epochs = 15000\n",
        "alpha = 0.01\n",
        "\n",
        "for i in range(epochs):\n",
        "  \n",
        "  # Feedforward\n",
        "  fx = np.dot(X, weightHidden) + biasHidden\n",
        "  hiddenLayer = sigmoid(fx)\n",
        "  fx1 = np.dot(hiddenLayer, weightOutput) + biasOutput\n",
        "  outputLayer = sigmoid(fx1)\n",
        "\n",
        "  # Backprpagation (Error, slope, Delta)\n",
        "  errorOutput = outputLayer - Y\n",
        "  slopeOutput = derivativeSigmoid(outputLayer)\n",
        "  deltaOutput = errorOutput * slopeOutput\n",
        "\n",
        "  errorHidden = deltaOutput.dot(weightOutput.T)\n",
        "  slopeHidden = derivativeSigmoid(hiddenLayer)\n",
        "  deltaHidden = errorHidden + slopeHidden \n",
        "\n",
        "  # Optimization\n",
        "  weightOutput = weightOutput - hiddenLayer.T.dot(deltaOutput) * alpha\n",
        "  weightHidden = weightHidden - X.T.dot(deltaHidden) * alpha\n",
        "  biasOutput = biasOutput - np.sum(deltaOutput) * alpha\n",
        "  biasHidden = biasHidden - np.sum(deltaHidden) * alpha"
      ],
      "metadata": {
        "id": "Pnjtyl5KMkCG"
      },
      "execution_count": 56,
      "outputs": []
    },
    {
      "cell_type": "code",
      "source": [
        "outputLayer"
      ],
      "metadata": {
        "colab": {
          "base_uri": "https://localhost:8080/"
        },
        "id": "PuwyzBE8O9B4",
        "outputId": "3378fa3a-2e25-4781-9952-ad782b67d354"
      },
      "execution_count": 57,
      "outputs": [
        {
          "output_type": "execute_result",
          "data": {
            "text/plain": [
              "array([[0.77680789],\n",
              "       [0.58789412],\n",
              "       [0.58789403]])"
            ]
          },
          "metadata": {},
          "execution_count": 57
        }
      ]
    },
    {
      "cell_type": "code",
      "source": [
        ""
      ],
      "metadata": {
        "id": "OuVYjRl5PALG"
      },
      "execution_count": null,
      "outputs": []
    }
  ]
}