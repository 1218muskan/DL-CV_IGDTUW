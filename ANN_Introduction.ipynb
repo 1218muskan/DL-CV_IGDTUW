{
  "nbformat": 4,
  "nbformat_minor": 0,
  "metadata": {
    "colab": {
      "name": "ANN_Introduction.ipynb",
      "provenance": [],
      "authorship_tag": "ABX9TyMTntdU6vrK2+2RIaziceRr",
      "include_colab_link": true
    },
    "kernelspec": {
      "name": "python3",
      "display_name": "Python 3"
    },
    "language_info": {
      "name": "python"
    }
  },
  "cells": [
    {
      "cell_type": "markdown",
      "metadata": {
        "id": "view-in-github",
        "colab_type": "text"
      },
      "source": [
        "<a href=\"https://colab.research.google.com/github/1218muskan/DL-CV_IGDTUW/blob/main/ANN_Introduction.ipynb\" target=\"_parent\"><img src=\"https://colab.research.google.com/assets/colab-badge.svg\" alt=\"Open In Colab\"/></a>"
      ]
    },
    {
      "cell_type": "code",
      "execution_count": 1,
      "metadata": {
        "id": "yrFlTVIsGrw3"
      },
      "outputs": [],
      "source": [
        "import numpy as np"
      ]
    },
    {
      "cell_type": "code",
      "source": [
        "# X : Input\n",
        "# Y : Output (Binary Classification)\n",
        "\n",
        "X = np.array([[1,0,1,0], [1,0,1,1], [0,1,0,1]])\n",
        "Y = np.array([[1],[1],[0]])"
      ],
      "metadata": {
        "id": "0yBrsnI2Gusn"
      },
      "execution_count": 2,
      "outputs": []
    },
    {
      "cell_type": "code",
      "source": [
        "X"
      ],
      "metadata": {
        "colab": {
          "base_uri": "https://localhost:8080/"
        },
        "id": "L-3dQ7TQG_ee",
        "outputId": "93fec9dc-0c71-4147-8114-6efa6d19fe24"
      },
      "execution_count": 3,
      "outputs": [
        {
          "output_type": "execute_result",
          "data": {
            "text/plain": [
              "array([[1, 0, 1, 0],\n",
              "       [1, 0, 1, 1],\n",
              "       [0, 1, 0, 1]])"
            ]
          },
          "metadata": {},
          "execution_count": 3
        }
      ]
    },
    {
      "cell_type": "code",
      "source": [
        "X.shape\n",
        "# (3,4) -> 3 data rows, 4 features"
      ],
      "metadata": {
        "colab": {
          "base_uri": "https://localhost:8080/"
        },
        "id": "VUcP2wq3p7ll",
        "outputId": "ff1df84a-bff6-4dcf-96c9-ee7e1bc52756"
      },
      "execution_count": 4,
      "outputs": [
        {
          "output_type": "execute_result",
          "data": {
            "text/plain": [
              "(3, 4)"
            ]
          },
          "metadata": {},
          "execution_count": 4
        }
      ]
    },
    {
      "cell_type": "code",
      "source": [
        "Y\n",
        "# (3,1)"
      ],
      "metadata": {
        "colab": {
          "base_uri": "https://localhost:8080/"
        },
        "id": "JAvgRZ50HAOg",
        "outputId": "2a7cb6bc-6fe6-434c-d675-47139af391eb"
      },
      "execution_count": 5,
      "outputs": [
        {
          "output_type": "execute_result",
          "data": {
            "text/plain": [
              "array([[1],\n",
              "       [1],\n",
              "       [0]])"
            ]
          },
          "metadata": {},
          "execution_count": 5
        }
      ]
    },
    {
      "cell_type": "code",
      "source": [
        "input_neurons = X.shape[1]\n",
        "hidden_neurons = 3\n",
        "output_neurons = 1\n",
        "\n",
        "# 4:3:1"
      ],
      "metadata": {
        "id": "_bWjNpaDHAuD"
      },
      "execution_count": 6,
      "outputs": []
    },
    {
      "cell_type": "code",
      "source": [
        "# for Feed Forward\n",
        "def sigmoid(x):\n",
        "  return 1 / (1 + np.exp(-x))\n",
        "\n",
        "# for Back propagation\n",
        "def derivativeSigmoid(x):\n",
        "  return sigmoid(x) * (1 - sigmoid(x)) "
      ],
      "metadata": {
        "id": "BTujj7onHRDP"
      },
      "execution_count": 46,
      "outputs": []
    },
    {
      "cell_type": "markdown",
      "source": [
        "Derivative of sigmoid function - https://towardsdatascience.com/derivative-of-the-sigmoid-function-536880cf918e"
      ],
      "metadata": {
        "id": "xnZWUG1Oyt_8"
      }
    },
    {
      "cell_type": "markdown",
      "source": [
        "#### Intializing Weights"
      ],
      "metadata": {
        "id": "BebX_7CFtam_"
      }
    },
    {
      "cell_type": "code",
      "source": [
        "# Intialising weights and bias using random values\n",
        "\n",
        "# Hidden layer weights -> (4,3)\n",
        "weightHidden = np.random.uniform(size=(input_neurons, hidden_neurons))\n",
        "# Output layer weights -> (3,1)\n",
        "weightOutput = np.random.uniform(size=(hidden_neurons, output_neurons))\n",
        "\n",
        "# bias -> (1, neurons in nextLayer)\n",
        "biasHidden = np.random.uniform(size=(1, hidden_neurons))\n",
        "biasOutput = np.random.uniform(size=(1, output_neurons))"
      ],
      "metadata": {
        "id": "CddDX-QjHm__"
      },
      "execution_count": 8,
      "outputs": []
    },
    {
      "cell_type": "code",
      "source": [
        "weightHidden"
      ],
      "metadata": {
        "colab": {
          "base_uri": "https://localhost:8080/"
        },
        "id": "-Wlb6bKvIJQ3",
        "outputId": "f9e6f195-2da4-4b2b-e37f-6211d5888573"
      },
      "execution_count": 9,
      "outputs": [
        {
          "output_type": "execute_result",
          "data": {
            "text/plain": [
              "array([[0.40717644, 0.21335762, 0.62106834],\n",
              "       [0.64314205, 0.04681754, 0.41416033],\n",
              "       [0.31584449, 0.64678638, 0.62511577],\n",
              "       [0.08220216, 0.61437451, 0.86964858]])"
            ]
          },
          "metadata": {},
          "execution_count": 9
        }
      ]
    },
    {
      "cell_type": "code",
      "source": [
        "weightOutput"
      ],
      "metadata": {
        "colab": {
          "base_uri": "https://localhost:8080/"
        },
        "id": "fksbL84lINuZ",
        "outputId": "f2d8e214-f0c6-42ff-91b4-6af824d7be35"
      },
      "execution_count": 10,
      "outputs": [
        {
          "output_type": "execute_result",
          "data": {
            "text/plain": [
              "array([[0.62980511],\n",
              "       [0.10961704],\n",
              "       [0.52701865]])"
            ]
          },
          "metadata": {},
          "execution_count": 10
        }
      ]
    },
    {
      "cell_type": "code",
      "source": [
        "epochs = 1000\n",
        "alpha = 0.01"
      ],
      "metadata": {
        "id": "BkHHEGdYMQOv"
      },
      "execution_count": 11,
      "outputs": []
    },
    {
      "cell_type": "code",
      "source": [
        ""
      ],
      "metadata": {
        "id": "WJjsWtdJMTis"
      },
      "execution_count": null,
      "outputs": []
    },
    {
      "cell_type": "markdown",
      "source": [
        "### Feed Forward"
      ],
      "metadata": {
        "id": "WvNplmk5tNLy"
      }
    },
    {
      "cell_type": "code",
      "source": [
        "# InputLayer -> HiddenLayer\n",
        "fx = np.dot(X, weightHidden) + biasHidden"
      ],
      "metadata": {
        "id": "C8apqAUWIPW_"
      },
      "execution_count": 12,
      "outputs": []
    },
    {
      "cell_type": "code",
      "source": [
        "fx"
      ],
      "metadata": {
        "colab": {
          "base_uri": "https://localhost:8080/"
        },
        "id": "oH-m4ieSIdJj",
        "outputId": "fcbc36ef-b862-4760-c1c2-c018035e191e"
      },
      "execution_count": 13,
      "outputs": [
        {
          "output_type": "execute_result",
          "data": {
            "text/plain": [
              "array([[1.34157024, 1.35113244, 1.55896129],\n",
              "       [1.4237724 , 1.96550695, 2.42860987],\n",
              "       [1.34389352, 1.15218049, 1.59658609]])"
            ]
          },
          "metadata": {},
          "execution_count": 13
        }
      ]
    },
    {
      "cell_type": "code",
      "source": [
        "hiddenLayer = sigmoid(fx)"
      ],
      "metadata": {
        "id": "mBs41UrCIdt_"
      },
      "execution_count": 14,
      "outputs": []
    },
    {
      "cell_type": "code",
      "source": [
        "hiddenLayer\n",
        "# results between 0-1"
      ],
      "metadata": {
        "colab": {
          "base_uri": "https://localhost:8080/"
        },
        "id": "hlAjfSQJIkn_",
        "outputId": "ec8dcff5-ad63-4e4e-fd5f-9cbff9acbfb4"
      },
      "execution_count": 15,
      "outputs": [
        {
          "output_type": "execute_result",
          "data": {
            "text/plain": [
              "array([[0.79274805, 0.79431471, 0.82620425],\n",
              "       [0.80592913, 0.8771277 , 0.91898309],\n",
              "       [0.7931295 , 0.75990897, 0.8315407 ]])"
            ]
          },
          "metadata": {},
          "execution_count": 15
        }
      ]
    },
    {
      "cell_type": "code",
      "source": [
        "# HiddenLayer -> OututLayer\n",
        "fx1 = np.dot(hiddenLayer, weightOutput) + biasOutput\n",
        "outputLayer = sigmoid(fx1)"
      ],
      "metadata": {
        "id": "g7kMtNNOImAo"
      },
      "execution_count": 16,
      "outputs": []
    },
    {
      "cell_type": "code",
      "source": [
        "outputLayer"
      ],
      "metadata": {
        "colab": {
          "base_uri": "https://localhost:8080/"
        },
        "id": "Pi2TVKC2IzA_",
        "outputId": "07c30219-073e-4f34-d035-29974933a3e1"
      },
      "execution_count": 17,
      "outputs": [
        {
          "output_type": "execute_result",
          "data": {
            "text/plain": [
              "array([[0.87171649],\n",
              "       [0.87894708],\n",
              "       [0.87163608]])"
            ]
          },
          "metadata": {},
          "execution_count": 17
        }
      ]
    },
    {
      "cell_type": "code",
      "source": [
        ""
      ],
      "metadata": {
        "id": "xz0ZSwqCtwjt"
      },
      "execution_count": null,
      "outputs": []
    },
    {
      "cell_type": "markdown",
      "source": [
        "### Back Propagation\n",
        "\n",
        "Calculate:\n",
        "- Error \n",
        "- Slope - partial derivative of activation function\n",
        "- Delta - Error * Slope"
      ],
      "metadata": {
        "id": "OX8TPD_ctrT1"
      }
    },
    {
      "cell_type": "markdown",
      "source": [
        "#### Ouput Layer"
      ],
      "metadata": {
        "id": "Hq-tRs9zu7sy"
      }
    },
    {
      "cell_type": "code",
      "source": [
        "# Error at Output Layer\n",
        "errorOutput = Y - outputLayer"
      ],
      "metadata": {
        "id": "w36V7T4RI0Ub"
      },
      "execution_count": 18,
      "outputs": []
    },
    {
      "cell_type": "code",
      "source": [
        "errorOutput"
      ],
      "metadata": {
        "colab": {
          "base_uri": "https://localhost:8080/"
        },
        "id": "VGKzWyZnJ-EP",
        "outputId": "cb8a2aad-986b-4992-b70f-280ce9dbafe0"
      },
      "execution_count": 19,
      "outputs": [
        {
          "output_type": "execute_result",
          "data": {
            "text/plain": [
              "array([[ 0.12828351],\n",
              "       [ 0.12105292],\n",
              "       [-0.87163608]])"
            ]
          },
          "metadata": {},
          "execution_count": 19
        }
      ]
    },
    {
      "cell_type": "code",
      "source": [
        "# Slope of Output Layer\n",
        "slopeOutput = derivativeSigmoid(outputLayer)"
      ],
      "metadata": {
        "id": "UGT3uRKLJ_aG"
      },
      "execution_count": 20,
      "outputs": []
    },
    {
      "cell_type": "code",
      "source": [
        "slopeOutput"
      ],
      "metadata": {
        "colab": {
          "base_uri": "https://localhost:8080/"
        },
        "id": "rT5h18EDKF_5",
        "outputId": "6ec87667-33e3-48b1-acf7-bcfeee8bce81"
      },
      "execution_count": 21,
      "outputs": [
        {
          "output_type": "execute_result",
          "data": {
            "text/plain": [
              "array([[0.20793287],\n",
              "       [0.20731479],\n",
              "       [0.20793972]])"
            ]
          },
          "metadata": {},
          "execution_count": 21
        }
      ]
    },
    {
      "cell_type": "code",
      "source": [
        "# Delta at output layer\n",
        "deltaOutput = errorOutput * slopeOutput"
      ],
      "metadata": {
        "id": "nbFA8sMOKIEs"
      },
      "execution_count": 22,
      "outputs": []
    },
    {
      "cell_type": "code",
      "source": [
        "deltaOutput"
      ],
      "metadata": {
        "colab": {
          "base_uri": "https://localhost:8080/"
        },
        "id": "SlRJqesKKMtJ",
        "outputId": "ddfd9233-a619-47ef-bf6c-22788a691699"
      },
      "execution_count": 23,
      "outputs": [
        {
          "output_type": "execute_result",
          "data": {
            "text/plain": [
              "array([[ 0.02667436],\n",
              "       [ 0.02509606],\n",
              "       [-0.18124777]])"
            ]
          },
          "metadata": {},
          "execution_count": 23
        }
      ]
    },
    {
      "cell_type": "markdown",
      "source": [
        "#### Hidden Layer"
      ],
      "metadata": {
        "id": "UA-IIio3vC3p"
      }
    },
    {
      "cell_type": "code",
      "source": [
        "weightOutput.T"
      ],
      "metadata": {
        "colab": {
          "base_uri": "https://localhost:8080/"
        },
        "id": "x3yb7X6xveSh",
        "outputId": "0a7b9e8b-86e5-477e-f13e-80c1538bb20e"
      },
      "execution_count": 24,
      "outputs": [
        {
          "output_type": "execute_result",
          "data": {
            "text/plain": [
              "array([[0.62980511, 0.10961704, 0.52701865]])"
            ]
          },
          "metadata": {},
          "execution_count": 24
        }
      ]
    },
    {
      "cell_type": "code",
      "source": [
        "# error at Hidden layer\n",
        "errorHidden = deltaOutput.dot(weightOutput.T) "
      ],
      "metadata": {
        "id": "9tMIgyHfKOIY"
      },
      "execution_count": 25,
      "outputs": []
    },
    {
      "cell_type": "code",
      "source": [
        "# Slope aat Hidden layer\n",
        "slopeHidden = derivativeSigmoid(hiddenLayer)\n",
        "# Delta at Hidden Layer\n",
        "deltaHidden = errorHidden * slopeHidden"
      ],
      "metadata": {
        "id": "PUzWTooLK1-F"
      },
      "execution_count": 26,
      "outputs": []
    },
    {
      "cell_type": "markdown",
      "source": [
        "### Optimization\n",
        "Updation of weights"
      ],
      "metadata": {
        "id": "FeHqpx0ovwfZ"
      }
    },
    {
      "cell_type": "code",
      "source": [
        "weightOutput = weightOutput - hiddenLayer.T.dot(deltaOutput) * alpha"
      ],
      "metadata": {
        "id": "2xdtdcJOLADN"
      },
      "execution_count": 27,
      "outputs": []
    },
    {
      "cell_type": "code",
      "source": [
        "weightOutput"
      ],
      "metadata": {
        "colab": {
          "base_uri": "https://localhost:8080/"
        },
        "id": "7HHADJrLMHzw",
        "outputId": "edff0c4a-4223-4ae2-cdb9-d112ff4e319a"
      },
      "execution_count": 28,
      "outputs": [
        {
          "output_type": "execute_result",
          "data": {
            "text/plain": [
              "array([[0.63082893],\n",
              "       [0.11056235],\n",
              "       [0.52807479]])"
            ]
          },
          "metadata": {},
          "execution_count": 28
        }
      ]
    },
    {
      "cell_type": "code",
      "source": [
        "weightHidden = weightHidden - X.T.dot(deltaHidden) * alpha"
      ],
      "metadata": {
        "id": "zVsfrzKoMWRH"
      },
      "execution_count": 29,
      "outputs": []
    },
    {
      "cell_type": "code",
      "source": [
        "biasOutput = biasOutput - np.sum(deltaOutput) * alpha\n",
        "biasHidden = biasHidden - np.sum(deltaHidden) * alpha"
      ],
      "metadata": {
        "id": "93yCqHXnMctg"
      },
      "execution_count": 30,
      "outputs": []
    },
    {
      "cell_type": "markdown",
      "source": [
        "### Final Code\n",
        "Summing up above calculations"
      ],
      "metadata": {
        "id": "R2m9VQT_ts62"
      }
    },
    {
      "cell_type": "code",
      "source": [
        "# Initialization of weights\n",
        "weightHidden = np.random.uniform(size=(input_neurons, hidden_neurons))\n",
        "weightOutput = np.random.uniform(size=(hidden_neurons, output_neurons))\n",
        "biasHidden = np.random.uniform(size=(1, hidden_neurons))\n",
        "biasOutput = np.random.uniform(size=(1, output_neurons))\n",
        "\n",
        "epochs = 15000\n",
        "alpha = 0.01\n",
        "\n",
        "for i in range(epochs):\n",
        "  \n",
        "  # Feedforward\n",
        "  fx = np.dot(X, weightHidden) + biasHidden\n",
        "  hiddenLayer = sigmoid(fx)\n",
        "  fx1 = np.dot(hiddenLayer, weightOutput) + biasOutput\n",
        "  outputLayer = sigmoid(fx1)\n",
        "\n",
        "  # Backprpagation (Error, slope, Delta)\n",
        "  errorOutput = outputLayer - Y\n",
        "  slopeOutput = derivativeSigmoid(outputLayer)\n",
        "  deltaOutput = errorOutput * slopeOutput\n",
        "\n",
        "  errorHidden = deltaOutput.dot(weightOutput.T)\n",
        "  slopeHidden = derivativeSigmoid(hiddenLayer)\n",
        "  deltaHidden = errorHidden * slopeHidden \n",
        "\n",
        "  # Optimization\n",
        "  weightOutput = weightOutput - hiddenLayer.T.dot(deltaOutput) * alpha\n",
        "  weightHidden = weightHidden - X.T.dot(deltaHidden) * alpha\n",
        "  biasOutput = biasOutput - np.sum(deltaOutput) * alpha\n",
        "  biasHidden = biasHidden - np.sum(deltaHidden) * alpha"
      ],
      "metadata": {
        "id": "Pnjtyl5KMkCG"
      },
      "execution_count": 55,
      "outputs": []
    },
    {
      "cell_type": "code",
      "source": [
        "outputLayer"
      ],
      "metadata": {
        "colab": {
          "base_uri": "https://localhost:8080/"
        },
        "id": "PuwyzBE8O9B4",
        "outputId": "17c7378c-eec0-4775-e86b-83f23594c541"
      },
      "execution_count": 56,
      "outputs": [
        {
          "output_type": "execute_result",
          "data": {
            "text/plain": [
              "array([[0.99031046],\n",
              "       [0.95295663],\n",
              "       [0.06836019]])"
            ]
          },
          "metadata": {},
          "execution_count": 56
        }
      ]
    },
    {
      "cell_type": "code",
      "source": [
        ""
      ],
      "metadata": {
        "id": "OuVYjRl5PALG"
      },
      "execution_count": null,
      "outputs": []
    }
  ]
}