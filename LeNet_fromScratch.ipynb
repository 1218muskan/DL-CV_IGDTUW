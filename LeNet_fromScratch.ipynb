{
  "nbformat": 4,
  "nbformat_minor": 0,
  "metadata": {
    "colab": {
      "name": "LeNet_fromScratch.ipynb",
      "provenance": [],
      "authorship_tag": "ABX9TyNqGWYC6q1nC1qRgINrOwO5",
      "include_colab_link": true
    },
    "kernelspec": {
      "name": "python3",
      "display_name": "Python 3"
    },
    "language_info": {
      "name": "python"
    },
    "accelerator": "GPU",
    "gpuClass": "standard"
  },
  "cells": [
    {
      "cell_type": "markdown",
      "metadata": {
        "id": "view-in-github",
        "colab_type": "text"
      },
      "source": [
        "<a href=\"https://colab.research.google.com/github/1218muskan/DL-CV_IGDTUW/blob/main/LeNet_fromScratch.ipynb\" target=\"_parent\"><img src=\"https://colab.research.google.com/assets/colab-badge.svg\" alt=\"Open In Colab\"/></a>"
      ]
    },
    {
      "cell_type": "markdown",
      "source": [
        "Implementing LeNet from scratch\n",
        "\n",
        "<center><img src=\"https://cdn.analyticsvidhya.com/wp-content/uploads/2021/03/Screenshot-from-2021-03-18-12-52-17.png\" width=\"485\" height=\"245\" /></center>\n",
        "<br> "
      ],
      "metadata": {
        "id": "YVq1y_jG_xht"
      }
    },
    {
      "cell_type": "code",
      "execution_count": 1,
      "metadata": {
        "id": "pDzz9ckp_UGZ"
      },
      "outputs": [],
      "source": [
        "import tensorflow as tf\n",
        "from tensorflow.keras.models import Sequential\n",
        "from tensorflow.keras.layers import Activation, Dropout, Dense, Conv2D, AveragePooling2D, Flatten\n",
        "from tensorflow.keras.datasets import cifar10 "
      ]
    },
    {
      "cell_type": "code",
      "source": [
        "model = Sequential()\n",
        "\n",
        "model.add(Conv2D(filters=6, kernel_size=(5,5), strides=1, input_shape=(32,32,3)))\n",
        "model.add(Activation('tanh'))\n",
        "model.add(AveragePooling2D(pool_size=(2,2), strides=2))\n",
        "\n",
        "model.add(Conv2D(filters=16, kernel_size=(5,5), strides=1))\n",
        "model.add(Activation('tanh'))\n",
        "model.add(AveragePooling2D(pool_size=(2,2), strides=2))\n",
        "\n",
        "model.add(Flatten())\n",
        "\n",
        "model.add(Dense(120))\n",
        "model.add(Activation('tanh'))\n",
        "model.add(Dropout(0.3))\n",
        "\n",
        "model.add(Dense(84))\n",
        "model.add(Activation('tanh'))\n",
        "model.add(Dropout(0.3))\n",
        "\n",
        "model.add(Dense(10))"
      ],
      "metadata": {
        "id": "eaF4jrtb_w5E"
      },
      "execution_count": 2,
      "outputs": []
    },
    {
      "cell_type": "code",
      "source": [
        "model.summary()"
      ],
      "metadata": {
        "colab": {
          "base_uri": "https://localhost:8080/"
        },
        "id": "DL0KO33PDMkQ",
        "outputId": "8dd04a49-efab-4e30-e1b2-bf2b58fd6596"
      },
      "execution_count": 3,
      "outputs": [
        {
          "output_type": "stream",
          "name": "stdout",
          "text": [
            "Model: \"sequential\"\n",
            "_________________________________________________________________\n",
            " Layer (type)                Output Shape              Param #   \n",
            "=================================================================\n",
            " conv2d (Conv2D)             (None, 28, 28, 6)         456       \n",
            "                                                                 \n",
            " activation (Activation)     (None, 28, 28, 6)         0         \n",
            "                                                                 \n",
            " average_pooling2d (AverageP  (None, 14, 14, 6)        0         \n",
            " ooling2D)                                                       \n",
            "                                                                 \n",
            " conv2d_1 (Conv2D)           (None, 10, 10, 16)        2416      \n",
            "                                                                 \n",
            " activation_1 (Activation)   (None, 10, 10, 16)        0         \n",
            "                                                                 \n",
            " average_pooling2d_1 (Averag  (None, 5, 5, 16)         0         \n",
            " ePooling2D)                                                     \n",
            "                                                                 \n",
            " flatten (Flatten)           (None, 400)               0         \n",
            "                                                                 \n",
            " dense (Dense)               (None, 120)               48120     \n",
            "                                                                 \n",
            " activation_2 (Activation)   (None, 120)               0         \n",
            "                                                                 \n",
            " dropout (Dropout)           (None, 120)               0         \n",
            "                                                                 \n",
            " dense_1 (Dense)             (None, 84)                10164     \n",
            "                                                                 \n",
            " activation_3 (Activation)   (None, 84)                0         \n",
            "                                                                 \n",
            " dropout_1 (Dropout)         (None, 84)                0         \n",
            "                                                                 \n",
            " dense_2 (Dense)             (None, 10)                850       \n",
            "                                                                 \n",
            "=================================================================\n",
            "Total params: 62,006\n",
            "Trainable params: 62,006\n",
            "Non-trainable params: 0\n",
            "_________________________________________________________________\n"
          ]
        }
      ]
    },
    {
      "cell_type": "code",
      "source": [
        "model.compile(optimizer='adam', loss=tf.keras.losses.SparseCategoricalCrossentropy(from_logits=True), metrics=['accuracy'])"
      ],
      "metadata": {
        "id": "W8_h6KiVF4cF"
      },
      "execution_count": 4,
      "outputs": []
    },
    {
      "cell_type": "code",
      "source": [
        "(x_train, y_train), (x_test, y_test) = cifar10.load_data()"
      ],
      "metadata": {
        "colab": {
          "base_uri": "https://localhost:8080/"
        },
        "id": "PzL5usa-GShE",
        "outputId": "555bea75-5798-432b-aca5-5754fedcb010"
      },
      "execution_count": 5,
      "outputs": [
        {
          "output_type": "stream",
          "name": "stdout",
          "text": [
            "Downloading data from https://www.cs.toronto.edu/~kriz/cifar-10-python.tar.gz\n",
            "170500096/170498071 [==============================] - 2s 0us/step\n",
            "170508288/170498071 [==============================] - 2s 0us/step\n"
          ]
        }
      ]
    },
    {
      "cell_type": "markdown",
      "source": [
        "Cifar 10 Dataset contains 10 object classes :- airplane, automobile, bird, cat, deer, dog, frog, horse, ship, truck"
      ],
      "metadata": {
        "id": "Pl2FHE9OGpFk"
      }
    },
    {
      "cell_type": "code",
      "source": [
        "x_train, x_test = x_train/255.0 , x_test/255.0"
      ],
      "metadata": {
        "id": "JSoQ14aaHFKt"
      },
      "execution_count": 6,
      "outputs": []
    },
    {
      "cell_type": "code",
      "source": [
        "model.fit(x_train, y_train, epochs =5, validation_data=(x_test, y_test))"
      ],
      "metadata": {
        "colab": {
          "base_uri": "https://localhost:8080/"
        },
        "id": "qKJwGvI0HNNQ",
        "outputId": "bccec226-05c4-44f0-a109-1ae42943e699"
      },
      "execution_count": 7,
      "outputs": [
        {
          "output_type": "stream",
          "name": "stdout",
          "text": [
            "Epoch 1/5\n",
            "1563/1563 [==============================] - 18s 4ms/step - loss: 1.8680 - accuracy: 0.3337 - val_loss: 1.7606 - val_accuracy: 0.3766\n",
            "Epoch 2/5\n",
            "1563/1563 [==============================] - 6s 4ms/step - loss: 1.7525 - accuracy: 0.3865 - val_loss: 1.6544 - val_accuracy: 0.4192\n",
            "Epoch 3/5\n",
            "1563/1563 [==============================] - 6s 4ms/step - loss: 1.6773 - accuracy: 0.4086 - val_loss: 1.6071 - val_accuracy: 0.4248\n",
            "Epoch 4/5\n",
            "1563/1563 [==============================] - 6s 4ms/step - loss: 1.6123 - accuracy: 0.4305 - val_loss: 1.4991 - val_accuracy: 0.4720\n",
            "Epoch 5/5\n",
            "1563/1563 [==============================] - 6s 4ms/step - loss: 1.5654 - accuracy: 0.4474 - val_loss: 1.4811 - val_accuracy: 0.4763\n"
          ]
        },
        {
          "output_type": "execute_result",
          "data": {
            "text/plain": [
              "<keras.callbacks.History at 0x7fd570056f50>"
            ]
          },
          "metadata": {},
          "execution_count": 7
        }
      ]
    },
    {
      "cell_type": "code",
      "source": [
        ""
      ],
      "metadata": {
        "id": "VOyMAHV_HbqY"
      },
      "execution_count": null,
      "outputs": []
    }
  ]
}