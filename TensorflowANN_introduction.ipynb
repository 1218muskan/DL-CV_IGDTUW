{
  "nbformat": 4,
  "nbformat_minor": 0,
  "metadata": {
    "colab": {
      "name": "TensorflowANN_introduction.ipynb",
      "provenance": [],
      "authorship_tag": "ABX9TyMQDTopYeIZAE6mQ835h7sh",
      "include_colab_link": true
    },
    "kernelspec": {
      "name": "python3",
      "display_name": "Python 3"
    },
    "language_info": {
      "name": "python"
    }
  },
  "cells": [
    {
      "cell_type": "markdown",
      "metadata": {
        "id": "view-in-github",
        "colab_type": "text"
      },
      "source": [
        "<a href=\"https://colab.research.google.com/github/1218muskan/DL-CV_IGDTUW/blob/main/TensorflowANN_introduction.ipynb\" target=\"_parent\"><img src=\"https://colab.research.google.com/assets/colab-badge.svg\" alt=\"Open In Colab\"/></a>"
      ]
    },
    {
      "cell_type": "code",
      "execution_count": 18,
      "metadata": {
        "id": "SSYKSZhiPCYG"
      },
      "outputs": [],
      "source": [
        "# Importing libraries\n",
        "import tensorflow as tf\n",
        "from tensorflow.keras.models import Sequential\n",
        "from tensorflow.keras.layers import Dense, Flatten\n",
        "\n",
        "# keras : public API"
      ]
    },
    {
      "cell_type": "markdown",
      "source": [
        "## Loading the data"
      ],
      "metadata": {
        "id": "73JxKqLHRyfC"
      }
    },
    {
      "cell_type": "code",
      "source": [
        "# minst : dataset of images of handwritten digits\n",
        "mnist = tf.keras.datasets.mnist\n",
        "mnist"
      ],
      "metadata": {
        "colab": {
          "base_uri": "https://localhost:8080/"
        },
        "id": "BI5E0MBpP7uL",
        "outputId": "8725d74f-628e-49bf-84d9-7a51babce5a8"
      },
      "execution_count": 19,
      "outputs": [
        {
          "output_type": "execute_result",
          "data": {
            "text/plain": [
              "<module 'keras.api._v2.keras.datasets.mnist' from '/usr/local/lib/python3.7/dist-packages/keras/api/_v2/keras/datasets/mnist/__init__.py'>"
            ]
          },
          "metadata": {},
          "execution_count": 19
        }
      ]
    },
    {
      "cell_type": "code",
      "source": [
        "(x_train, y_train), (x_test, y_test) = mnist.load_data()"
      ],
      "metadata": {
        "id": "OH4dVGoWQOyL"
      },
      "execution_count": 20,
      "outputs": []
    },
    {
      "cell_type": "code",
      "source": [
        "import matplotlib.pyplot as plt"
      ],
      "metadata": {
        "id": "7L-_Q4TSQUVj"
      },
      "execution_count": 21,
      "outputs": []
    },
    {
      "cell_type": "code",
      "source": [
        "plt.imshow(x_train[0])"
      ],
      "metadata": {
        "colab": {
          "base_uri": "https://localhost:8080/",
          "height": 282
        },
        "id": "Q9b8pXCWQggV",
        "outputId": "f6008f99-11da-4676-a57c-d32601add222"
      },
      "execution_count": 22,
      "outputs": [
        {
          "output_type": "execute_result",
          "data": {
            "text/plain": [
              "<matplotlib.image.AxesImage at 0x7fb6d9810d90>"
            ]
          },
          "metadata": {},
          "execution_count": 22
        },
        {
          "output_type": "display_data",
          "data": {
            "text/plain": [
              "<Figure size 432x288 with 1 Axes>"
            ],
            "image/png": "[encoded data removed]"
          },
          "metadata": {
            "needs_background": "light"
          }
        }
      ]
    },
    {
      "cell_type": "code",
      "source": [
        "x_train.shape\n",
        "# 60,000 images for training"
      ],
      "metadata": {
        "colab": {
          "base_uri": "https://localhost:8080/"
        },
        "id": "YQwe_-8mQmzU",
        "outputId": "fedbe656-6a57-4306-9ead-c2213bd2256b"
      },
      "execution_count": 23,
      "outputs": [
        {
          "output_type": "execute_result",
          "data": {
            "text/plain": [
              "(60000, 28, 28)"
            ]
          },
          "metadata": {},
          "execution_count": 23
        }
      ]
    },
    {
      "cell_type": "code",
      "source": [
        "x_train[0].shape\n",
        "# 28/28 is the dimension of image, i.e. each image has 28pixels x 28pixels"
      ],
      "metadata": {
        "colab": {
          "base_uri": "https://localhost:8080/"
        },
        "id": "c8Z3J7hBQrzg",
        "outputId": "efb958ae-55a2-43b0-d3fc-5b04d3694f10"
      },
      "execution_count": 44,
      "outputs": [
        {
          "output_type": "execute_result",
          "data": {
            "text/plain": [
              "(28, 28)"
            ]
          },
          "metadata": {},
          "execution_count": 44
        }
      ]
    },
    {
      "cell_type": "markdown",
      "source": [
        "Therefore, a single image is of 28x28 dimension, i.e. it will be having 784 (28*28) features.\n",
        "\n",
        "And, Hence our input layer will be having 784 neurons."
      ],
      "metadata": {
        "id": "apj2cUKSSjBD"
      }
    },
    {
      "cell_type": "code",
      "source": [
        "y_train"
      ],
      "metadata": {
        "colab": {
          "base_uri": "https://localhost:8080/"
        },
        "id": "tZ5hkZEQUZwt",
        "outputId": "59adfca0-cab6-4579-cd06-4be4bb0d0455"
      },
      "execution_count": 25,
      "outputs": [
        {
          "output_type": "execute_result",
          "data": {
            "text/plain": [
              "array([5, 0, 4, ..., 5, 6, 8], dtype=uint8)"
            ]
          },
          "metadata": {},
          "execution_count": 25
        }
      ]
    },
    {
      "cell_type": "code",
      "source": [
        "import numpy as np\n",
        "np.unique(y_train)"
      ],
      "metadata": {
        "colab": {
          "base_uri": "https://localhost:8080/"
        },
        "id": "DN9OMsDMUsNv",
        "outputId": "26b83347-1f6c-4936-eb7f-31c2ba2294e3"
      },
      "execution_count": 26,
      "outputs": [
        {
          "output_type": "execute_result",
          "data": {
            "text/plain": [
              "array([0, 1, 2, 3, 4, 5, 6, 7, 8, 9], dtype=uint8)"
            ]
          },
          "metadata": {},
          "execution_count": 26
        }
      ]
    },
    {
      "cell_type": "markdown",
      "source": [
        "There are 10 unique value of output ( digits 0-9). Hence, we will be having 10 neurons in our Output layer."
      ],
      "metadata": {
        "id": "LqC14g-wUxiA"
      }
    },
    {
      "cell_type": "markdown",
      "source": [
        "## Build the Model"
      ],
      "metadata": {
        "id": "WWOHwykXQ7nM"
      }
    },
    {
      "cell_type": "code",
      "source": [
        "# Normalizing the data\n",
        "x_train, x_test = x_train / 255.0 , x_test / 255.0\n",
        "\n",
        "# divided by 255 -> the data will be sqezed btw 0 and 1, \n",
        "# as divided the pixels with maximum value of RGB code (255)"
      ],
      "metadata": {
        "id": "RwSPbwHxQvmq"
      },
      "execution_count": 27,
      "outputs": []
    },
    {
      "cell_type": "code",
      "source": [
        "model = Sequential([\n",
        "                    # put layers one-by-one\n",
        "                    Flatten(input_shape=(28,28)),      # Input Layer\n",
        "                    Dense(256, activation='sigmoid'),  # Hidden layer\n",
        "                    Dense(10, activation='softmax')    # Output Layer\n",
        "])\n",
        "\n",
        "# Flatten is used to convert a matrix in 1D array \n",
        "# (So, whenever we will be having image dataset, our 1st layer will always be flatten)"
      ],
      "metadata": {
        "id": "UgK2NHMtRtKt"
      },
      "execution_count": 32,
      "outputs": []
    },
    {
      "cell_type": "code",
      "source": [
        "model"
      ],
      "metadata": {
        "colab": {
          "base_uri": "https://localhost:8080/"
        },
        "id": "4qjCoBd4Wth7",
        "outputId": "983dc3e7-c44c-4ab2-b992-2f75a06e4dc4"
      },
      "execution_count": 33,
      "outputs": [
        {
          "output_type": "execute_result",
          "data": {
            "text/plain": [
              "<keras.engine.sequential.Sequential at 0x7fb6d59d66d0>"
            ]
          },
          "metadata": {},
          "execution_count": 33
        }
      ]
    },
    {
      "cell_type": "code",
      "source": [
        "model.summary()"
      ],
      "metadata": {
        "colab": {
          "base_uri": "https://localhost:8080/"
        },
        "id": "e66hMpjnXcs6",
        "outputId": "e5305393-0cf8-471e-e912-3f957a4be632"
      },
      "execution_count": 34,
      "outputs": [
        {
          "output_type": "stream",
          "name": "stdout",
          "text": [
            "Model: \"sequential_1\"\n",
            "_________________________________________________________________\n",
            " Layer (type)                Output Shape              Param #   \n",
            "=================================================================\n",
            " flatten_2 (Flatten)         (None, 784)               0         \n",
            "                                                                 \n",
            " dense_2 (Dense)             (None, 256)               200960    \n",
            "                                                                 \n",
            " dense_3 (Dense)             (None, 10)                2570      \n",
            "                                                                 \n",
            "=================================================================\n",
            "Total params: 203,530\n",
            "Trainable params: 203,530\n",
            "Non-trainable params: 0\n",
            "_________________________________________________________________\n"
          ]
        }
      ]
    },
    {
      "cell_type": "markdown",
      "source": [
        "Parameters: weights and bias it will train"
      ],
      "metadata": {
        "id": "6yDq0Jo5XpKr"
      }
    },
    {
      "cell_type": "code",
      "source": [
        "model.compile(optimizer='sgd', \n",
        "              loss=tf.keras.losses.SparseCategoricalCrossentropy(from_logits=True),\n",
        "              metrics=['accuracy'])"
      ],
      "metadata": {
        "id": "h4mXO-_LXgKS"
      },
      "execution_count": 36,
      "outputs": []
    },
    {
      "cell_type": "code",
      "source": [
        "model.fit(x_train, y_train, epochs=5, validation_data=(x_test, y_test))"
      ],
      "metadata": {
        "colab": {
          "base_uri": "https://localhost:8080/"
        },
        "id": "FXs4QTXDZAAp",
        "outputId": "cae67acf-73cf-466a-a15a-cbf651b4dcb6"
      },
      "execution_count": 37,
      "outputs": [
        {
          "output_type": "stream",
          "name": "stdout",
          "text": [
            "Epoch 1/5\n"
          ]
        },
        {
          "output_type": "stream",
          "name": "stderr",
          "text": [
            "/usr/local/lib/python3.7/dist-packages/tensorflow/python/util/dispatch.py:1082: UserWarning: \"`sparse_categorical_crossentropy` received `from_logits=True`, but the `output` argument was produced by a sigmoid or softmax activation and thus does not represent logits. Was this intended?\"\n",
            "  return dispatch_target(*args, **kwargs)\n"
          ]
        },
        {
          "output_type": "stream",
          "name": "stdout",
          "text": [
            "1875/1875 [==============================] - 7s 4ms/step - loss: 1.3621 - accuracy: 0.7147 - val_loss: 0.7926 - val_accuracy: 0.8396\n",
            "Epoch 2/5\n",
            "1875/1875 [==============================] - 6s 3ms/step - loss: 0.6513 - accuracy: 0.8534 - val_loss: 0.5272 - val_accuracy: 0.8732\n",
            "Epoch 3/5\n",
            "1875/1875 [==============================] - 6s 3ms/step - loss: 0.4964 - accuracy: 0.8755 - val_loss: 0.4379 - val_accuracy: 0.8885\n",
            "Epoch 4/5\n",
            "1875/1875 [==============================] - 6s 3ms/step - loss: 0.4318 - accuracy: 0.8866 - val_loss: 0.3920 - val_accuracy: 0.8960\n",
            "Epoch 5/5\n",
            "1875/1875 [==============================] - 6s 3ms/step - loss: 0.3959 - accuracy: 0.8921 - val_loss: 0.3648 - val_accuracy: 0.9005\n"
          ]
        },
        {
          "output_type": "execute_result",
          "data": {
            "text/plain": [
              "<keras.callbacks.History at 0x7fb6d58c2d90>"
            ]
          },
          "metadata": {},
          "execution_count": 37
        }
      ]
    },
    {
      "cell_type": "markdown",
      "source": [
        "1875 - no. of batches our model created out of 60,000 records"
      ],
      "metadata": {
        "id": "qhJUKLCAdc6Q"
      }
    },
    {
      "cell_type": "code",
      "source": [
        "plt.plot(model.history.history['accuracy'], label='Train Accuracy')\n",
        "plt.plot(model.history.history['val_accuracy'], label='Validation Accuracy')\n",
        "plt.legend()\n",
        "plt.show()"
      ],
      "metadata": {
        "colab": {
          "base_uri": "https://localhost:8080/",
          "height": 265
        },
        "id": "xTFl_g5gc0ZO",
        "outputId": "8a286b6b-3f52-4298-addf-8337a93b2954"
      },
      "execution_count": 39,
      "outputs": [
        {
          "output_type": "display_data",
          "data": {
            "text/plain": [
              "<Figure size 432x288 with 1 Axes>"
            ],
            "image/png": "[encoded data removed]"
          },
          "metadata": {
            "needs_background": "light"
          }
        }
      ]
    },
    {
      "cell_type": "code",
      "source": [
        "plt.plot(model.history.history['loss'], label='Train Loss')\n",
        "plt.plot(model.history.history['val_loss'], label='Validation Loss')\n",
        "plt.legend()\n",
        "plt.show()"
      ],
      "metadata": {
        "colab": {
          "base_uri": "https://localhost:8080/",
          "height": 267
        },
        "id": "dlSnu19ndyiO",
        "outputId": "ad06db29-8e7e-4991-f95b-85ff7e52c11e"
      },
      "execution_count": 40,
      "outputs": [
        {
          "output_type": "display_data",
          "data": {
            "text/plain": [
              "<Figure size 432x288 with 1 Axes>"
            ],
            "image/png": "[encoded data removed]"
          },
          "metadata": {
            "needs_background": "light"
          }
        }
      ]
    },
    {
      "cell_type": "markdown",
      "source": [
        "## Making predictions"
      ],
      "metadata": {
        "id": "UpfrciSylh6L"
      }
    },
    {
      "cell_type": "code",
      "source": [
        "# passing firts 10 images\n",
        "model.predict(x_test[:10])"
      ],
      "metadata": {
        "colab": {
          "base_uri": "https://localhost:8080/"
        },
        "id": "sVrOuDAZkniv",
        "outputId": "95184ef8-589d-44f3-db3a-b756e99cae63"
      },
      "execution_count": 63,
      "outputs": [
        {
          "output_type": "execute_result",
          "data": {
            "text/plain": [
              "array([[2.12393003e-04, 5.80337610e-06, 1.85035286e-04, 1.21743104e-03,\n",
              "        5.57087187e-05, 1.57287403e-04, 2.28830208e-06, 9.93984282e-01,\n",
              "        4.31985936e-05, 4.13663732e-03],\n",
              "       [1.96399968e-02, 9.38319834e-04, 8.07397544e-01, 3.60824428e-02,\n",
              "        7.08455173e-06, 2.43019536e-02, 1.00765578e-01, 5.25700034e-06,\n",
              "        1.08495215e-02, 1.23016634e-05],\n",
              "       [1.04256673e-04, 9.47502375e-01, 1.49816377e-02, 8.15295335e-03,\n",
              "        1.06355082e-03, 6.60213176e-03, 5.01023233e-03, 8.96132737e-03,\n",
              "        5.49320178e-03, 2.12841551e-03],\n",
              "       [9.94615376e-01, 1.76058492e-07, 5.09995560e-04, 1.44826539e-04,\n",
              "        3.23607651e-06, 2.87105865e-03, 1.20565400e-03, 4.23854683e-04,\n",
              "        1.42348465e-04, 8.34704988e-05],\n",
              "       [2.48020841e-03, 1.35730050e-04, 1.56430639e-02, 1.06416072e-03,\n",
              "        8.35384488e-01, 5.36773866e-03, 9.32458788e-03, 2.84903571e-02,\n",
              "        6.57598209e-03, 9.55336615e-02],\n",
              "       [1.82256026e-05, 9.68886971e-01, 5.71495015e-03, 6.82469551e-03,\n",
              "        3.96887277e-04, 1.55143405e-03, 4.93960106e-04, 8.09971988e-03,\n",
              "        6.06038468e-03, 1.95283967e-03],\n",
              "       [9.12035393e-05, 3.55283992e-04, 1.05088817e-04, 3.66632524e-03,\n",
              "        8.71285141e-01, 4.54039015e-02, 5.58524276e-04, 1.52230915e-02,\n",
              "        1.60539355e-02, 4.72576134e-02],\n",
              "       [1.04948842e-04, 6.87995041e-03, 3.98869114e-03, 1.12821655e-02,\n",
              "        2.00488448e-01, 4.75247838e-02, 7.87733309e-03, 2.02275533e-02,\n",
              "        2.08399370e-02, 6.80786252e-01],\n",
              "       [2.25406289e-02, 1.15042063e-03, 1.27442494e-01, 1.59340416e-04,\n",
              "        5.07750846e-02, 2.62523349e-02, 7.53422081e-01, 3.78949364e-04,\n",
              "        1.38973910e-02, 3.98126757e-03],\n",
              "       [2.82438181e-04, 3.23046625e-05, 5.42832349e-05, 1.62563185e-04,\n",
              "        5.49699478e-02, 1.79001829e-03, 2.38711888e-04, 1.47336870e-01,\n",
              "        4.00458230e-03, 7.91128218e-01]], dtype=float32)"
            ]
          },
          "metadata": {},
          "execution_count": 63
        }
      ]
    },
    {
      "cell_type": "code",
      "source": [
        "for prediction in model.predict(x_test[:10]):\n",
        "  print(np.argmax(prediction))"
      ],
      "metadata": {
        "colab": {
          "base_uri": "https://localhost:8080/"
        },
        "id": "izyuyv3kkxJ8",
        "outputId": "71da1323-6f49-4284-fbcd-ce2ef2c0482f"
      },
      "execution_count": 64,
      "outputs": [
        {
          "output_type": "stream",
          "name": "stdout",
          "text": [
            "7\n",
            "2\n",
            "1\n",
            "0\n",
            "4\n",
            "1\n",
            "4\n",
            "9\n",
            "6\n",
            "9\n"
          ]
        }
      ]
    },
    {
      "cell_type": "code",
      "source": [
        "y_test[:10]"
      ],
      "metadata": {
        "colab": {
          "base_uri": "https://localhost:8080/"
        },
        "id": "WkPZ9Njbk9iD",
        "outputId": "a4e5bd5f-5779-4b29-db73-419ed55c54ed"
      },
      "execution_count": 65,
      "outputs": [
        {
          "output_type": "execute_result",
          "data": {
            "text/plain": [
              "array([7, 2, 1, 0, 4, 1, 4, 9, 5, 9], dtype=uint8)"
            ]
          },
          "metadata": {},
          "execution_count": 65
        }
      ]
    },
    {
      "cell_type": "markdown",
      "source": [
        "## Testing Model on Random Image"
      ],
      "metadata": {
        "id": "dEZRzvhdfvca"
      }
    },
    {
      "cell_type": "code",
      "source": [
        "# importing openCV\n",
        "import cv2"
      ],
      "metadata": {
        "id": "hdaxt_UMe2Ge"
      },
      "execution_count": 45,
      "outputs": []
    },
    {
      "cell_type": "code",
      "source": [
        "test_img = cv2.imread('sample_img.png')"
      ],
      "metadata": {
        "id": "GGZVd8SagsJf"
      },
      "execution_count": 46,
      "outputs": []
    },
    {
      "cell_type": "code",
      "source": [
        "plt.imshow(test_img)"
      ],
      "metadata": {
        "colab": {
          "base_uri": "https://localhost:8080/",
          "height": 286
        },
        "id": "H3gBb0Xgg5Hd",
        "outputId": "403c41ca-38b0-45e8-da0a-b708e34f5719"
      },
      "execution_count": 47,
      "outputs": [
        {
          "output_type": "execute_result",
          "data": {
            "text/plain": [
              "<matplotlib.image.AxesImage at 0x7fb6d507f250>"
            ]
          },
          "metadata": {},
          "execution_count": 47
        },
        {
          "output_type": "display_data",
          "data": {
            "text/plain": [
              "<Figure size 432x288 with 1 Axes>"
            ],
            "image/png": "[encoded data removed]"
          },
          "metadata": {
            "needs_background": "light"
          }
        }
      ]
    },
    {
      "cell_type": "code",
      "source": [
        "test_img.shape"
      ],
      "metadata": {
        "colab": {
          "base_uri": "https://localhost:8080/"
        },
        "id": "uYmgVVstg8OH",
        "outputId": "9198fe06-16cd-44e5-e0c0-88941cabb536"
      },
      "execution_count": 48,
      "outputs": [
        {
          "output_type": "execute_result",
          "data": {
            "text/plain": [
              "(452, 451, 3)"
            ]
          },
          "metadata": {},
          "execution_count": 48
        }
      ]
    },
    {
      "cell_type": "markdown",
      "source": [
        "If we perform testing on this image, it will show us error as its dimeansion is not matching with dimension of images in our dataset"
      ],
      "metadata": {
        "id": "QuFcfrp_hBfY"
      }
    },
    {
      "cell_type": "code",
      "source": [
        "test_img = cv2.cvtColor(test_img, cv2.COLOR_BGR2GRAY)\n",
        "# to drop that 3 in dimension , converting RGB colored imaged to gray scale image"
      ],
      "metadata": {
        "id": "-SGfRbwChAVA"
      },
      "execution_count": 50,
      "outputs": []
    },
    {
      "cell_type": "code",
      "source": [
        "test_img.shape"
      ],
      "metadata": {
        "colab": {
          "base_uri": "https://localhost:8080/"
        },
        "id": "yTPUt5Zbhb6W",
        "outputId": "113d3491-ac65-4d53-f6da-f429c815d905"
      },
      "execution_count": 51,
      "outputs": [
        {
          "output_type": "execute_result",
          "data": {
            "text/plain": [
              "(452, 451)"
            ]
          },
          "metadata": {},
          "execution_count": 51
        }
      ]
    },
    {
      "cell_type": "code",
      "source": [
        "# Resizing the image \n",
        "test_img = cv2.resize(test_img, (28,28))"
      ],
      "metadata": {
        "id": "WvyTYLuEhmp_"
      },
      "execution_count": 52,
      "outputs": []
    },
    {
      "cell_type": "code",
      "source": [
        "plt.imshow(test_img)"
      ],
      "metadata": {
        "colab": {
          "base_uri": "https://localhost:8080/",
          "height": 282
        },
        "id": "i4O9X-ODhvw9",
        "outputId": "dd5a2484-fba4-4888-db0d-5202ffb7c9b3"
      },
      "execution_count": 53,
      "outputs": [
        {
          "output_type": "execute_result",
          "data": {
            "text/plain": [
              "<matplotlib.image.AxesImage at 0x7fb6d1236fd0>"
            ]
          },
          "metadata": {},
          "execution_count": 53
        },
        {
          "output_type": "display_data",
          "data": {
            "text/plain": [
              "<Figure size 432x288 with 1 Axes>"
            ],
            "image/png": "[encoded data removed]"
          },
          "metadata": {
            "needs_background": "light"
          }
        }
      ]
    },
    {
      "cell_type": "code",
      "source": [
        "test_img.shape"
      ],
      "metadata": {
        "colab": {
          "base_uri": "https://localhost:8080/"
        },
        "id": "vRomR9IBhyOW",
        "outputId": "341b830e-9ce8-4cb6-ad6b-4c8ba6f1ff09"
      },
      "execution_count": 54,
      "outputs": [
        {
          "output_type": "execute_result",
          "data": {
            "text/plain": [
              "(28, 28)"
            ]
          },
          "metadata": {},
          "execution_count": 54
        }
      ]
    },
    {
      "cell_type": "markdown",
      "source": [
        "Now, the dimensions are same , therefore we can perform our testing on this image"
      ],
      "metadata": {
        "id": "IwpJE66sh5cq"
      }
    },
    {
      "cell_type": "code",
      "source": [
        "# Flattening the image to get 784 neurons\n",
        "# test_img = test_img.flatten()\n",
        "\n",
        "# no need to flatten the image explicitly coz our 1st layer is flatten only which will do this task"
      ],
      "metadata": {
        "id": "AUZQai-kh4Xv"
      },
      "execution_count": 55,
      "outputs": []
    },
    {
      "cell_type": "code",
      "source": [
        "test_img = np.reshape(test_img, (1, 28, 28))\n",
        "prediction = model.predict(test_img)\n",
        "\n",
        "# training data dimension - (60000, 28, 28) i.e. (no of images , dimension)\n",
        "# that's why we used reshape "
      ],
      "metadata": {
        "id": "3R9zMUSCiF9n"
      },
      "execution_count": 59,
      "outputs": []
    },
    {
      "cell_type": "code",
      "source": [
        "prediction"
      ],
      "metadata": {
        "colab": {
          "base_uri": "https://localhost:8080/"
        },
        "id": "C3LcJ8QcjVou",
        "outputId": "e1ca4d3f-2019-4e3e-c753-f3ceec4b9cde"
      },
      "execution_count": 60,
      "outputs": [
        {
          "output_type": "execute_result",
          "data": {
            "text/plain": [
              "array([[5.5063110e-09, 1.6153527e-06, 1.4612790e-05, 9.9996305e-01,\n",
              "        1.3624780e-10, 1.1323081e-06, 2.4728675e-10, 1.8600831e-09,\n",
              "        1.9496072e-05, 6.4082228e-10]], dtype=float32)"
            ]
          },
          "metadata": {},
          "execution_count": 60
        }
      ]
    },
    {
      "cell_type": "code",
      "source": [
        "np.argmax(prediction)\n",
        "# max probability is on index 3 which represents number 3"
      ],
      "metadata": {
        "colab": {
          "base_uri": "https://localhost:8080/"
        },
        "id": "XTZGWxBKiOJJ",
        "outputId": "5c356e6b-43d3-41af-d536-8294821975b2"
      },
      "execution_count": 62,
      "outputs": [
        {
          "output_type": "execute_result",
          "data": {
            "text/plain": [
              "3"
            ]
          },
          "metadata": {},
          "execution_count": 62
        }
      ]
    },
    {
      "cell_type": "code",
      "source": [
        ""
      ],
      "metadata": {
        "id": "CWZx2IB8jXZk"
      },
      "execution_count": null,
      "outputs": []
    }
  ]
}