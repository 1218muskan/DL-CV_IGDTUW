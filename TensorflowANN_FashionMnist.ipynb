{
  "nbformat": 4,
  "nbformat_minor": 0,
  "metadata": {
    "colab": {
      "name": "TensorflowANN_FashionMnist.ipynb",
      "provenance": [],
      "authorship_tag": "ABX9TyN1g6T1LDOATAIzwBp9DnPE",
      "include_colab_link": true
    },
    "kernelspec": {
      "name": "python3",
      "display_name": "Python 3"
    },
    "language_info": {
      "name": "python"
    }
  },
  "cells": [
    {
      "cell_type": "markdown",
      "metadata": {
        "id": "view-in-github",
        "colab_type": "text"
      },
      "source": [
        "<a href=\"https://colab.research.google.com/github/1218muskan/DL-CV_IGDTUW/blob/main/TensorflowANN_FashionMnist.ipynb\" target=\"_parent\"><img src=\"https://colab.research.google.com/assets/colab-badge.svg\" alt=\"Open In Colab\"/></a>"
      ]
    },
    {
      "cell_type": "code",
      "execution_count": 1,
      "metadata": {
        "id": "aoO0bqj0y5_o"
      },
      "outputs": [],
      "source": [
        "import tensorflow as tf\n",
        "from tensorflow.keras.layers import Dense, Flatten, Conv2D\n",
        "from tensorflow.keras import Model"
      ]
    },
    {
      "cell_type": "code",
      "source": [
        "import matplotlib.pyplot as plt"
      ],
      "metadata": {
        "id": "cIifNCvJzpOU"
      },
      "execution_count": 2,
      "outputs": []
    },
    {
      "cell_type": "code",
      "source": [
        "import numpy as np"
      ],
      "metadata": {
        "id": "tYutIZXa1aM5"
      },
      "execution_count": 3,
      "outputs": []
    },
    {
      "cell_type": "markdown",
      "source": [
        "## Loading Dataset\n",
        "\n",
        "https://keras.io/api/datasets/fashion_mnist/"
      ],
      "metadata": {
        "id": "qStsf03uzhyg"
      }
    },
    {
      "cell_type": "code",
      "source": [
        "(x_train, y_train), (x_test , y_test) = tf.keras.datasets.fashion_mnist.load_data()"
      ],
      "metadata": {
        "colab": {
          "base_uri": "https://localhost:8080/"
        },
        "id": "uM-qjWDNzEwp",
        "outputId": "6c36eeb1-d090-4772-c601-183ca77936cd"
      },
      "execution_count": 4,
      "outputs": [
        {
          "output_type": "stream",
          "name": "stdout",
          "text": [
            "Downloading data from https://storage.googleapis.com/tensorflow/tf-keras-datasets/train-labels-idx1-ubyte.gz\n",
            "32768/29515 [=================================] - 0s 0us/step\n",
            "40960/29515 [=========================================] - 0s 0us/step\n",
            "Downloading data from https://storage.googleapis.com/tensorflow/tf-keras-datasets/train-images-idx3-ubyte.gz\n",
            "26427392/26421880 [==============================] - 0s 0us/step\n",
            "26435584/26421880 [==============================] - 0s 0us/step\n",
            "Downloading data from https://storage.googleapis.com/tensorflow/tf-keras-datasets/t10k-labels-idx1-ubyte.gz\n",
            "16384/5148 [===============================================================================================] - 0s 0us/step\n",
            "Downloading data from https://storage.googleapis.com/tensorflow/tf-keras-datasets/t10k-images-idx3-ubyte.gz\n",
            "4423680/4422102 [==============================] - 0s 0us/step\n",
            "4431872/4422102 [==============================] - 0s 0us/step\n"
          ]
        }
      ]
    },
    {
      "cell_type": "code",
      "source": [
        "x_train.shape"
      ],
      "metadata": {
        "colab": {
          "base_uri": "https://localhost:8080/"
        },
        "id": "nBeUFj_szcQd",
        "outputId": "c19f0b46-0c51-49bf-a4a6-056afd6efb18"
      },
      "execution_count": 5,
      "outputs": [
        {
          "output_type": "execute_result",
          "data": {
            "text/plain": [
              "(60000, 28, 28)"
            ]
          },
          "metadata": {},
          "execution_count": 5
        }
      ]
    },
    {
      "cell_type": "code",
      "source": [
        "plt.imshow(x_train[0])\n",
        "plt.show()\n",
        "\n",
        "#Image of a boot"
      ],
      "metadata": {
        "colab": {
          "base_uri": "https://localhost:8080/",
          "height": 265
        },
        "id": "1VZoA-h2zgVx",
        "outputId": "be107ad9-c841-43a3-b3d1-62a57d863296"
      },
      "execution_count": 6,
      "outputs": [
        {
          "output_type": "display_data",
          "data": {
            "text/plain": [
              "<Figure size 432x288 with 1 Axes>"
            ],
            "image/png": "[encoded data removed]"
          },
          "metadata": {
            "needs_background": "light"
          }
        }
      ]
    },
    {
      "cell_type": "code",
      "source": [
        "np.unique(y_train)"
      ],
      "metadata": {
        "colab": {
          "base_uri": "https://localhost:8080/"
        },
        "id": "eOaHf7KO1Vsa",
        "outputId": "7f906a77-e9bf-4d83-8ed3-b4c2e18edae5"
      },
      "execution_count": 7,
      "outputs": [
        {
          "output_type": "execute_result",
          "data": {
            "text/plain": [
              "array([0, 1, 2, 3, 4, 5, 6, 7, 8, 9], dtype=uint8)"
            ]
          },
          "metadata": {},
          "execution_count": 7
        }
      ]
    },
    {
      "cell_type": "code",
      "source": [
        "class_names = [\"T-shirt\", \"Trouser\", \"Pullover\", \"Dress\", \"Coat\", \"Sandal\", \"Shirt\", \"Sneaker\", \"Bag\", \"Ankle Boot\"]\n",
        "\n",
        "plt.figure(figsize = (10,10)) # 10x10 inches , dimension of whole graph\n",
        "for i in range(25):\n",
        "  plt.subplot(5, 5, i+1)      # 5 rows and 5 columns, i+1 -> index\n",
        "  plt.xticks([])              # we don't want ticks on images           \n",
        "  plt.yticks([])\n",
        "  plt.imshow(x_train[i], cmap = plt.cm.binary)\n",
        "  plt.xlabel(class_names[y_train[i]])\n",
        "  \n",
        "plt.show()"
      ],
      "metadata": {
        "colab": {
          "base_uri": "https://localhost:8080/",
          "height": 589
        },
        "id": "STO_Zg5Dzvca",
        "outputId": "6224f993-9904-4cf4-bd57-ef55f6ac72e8"
      },
      "execution_count": 8,
      "outputs": [
        {
          "output_type": "display_data",
          "data": {
            "text/plain": [
              "<Figure size 720x720 with 25 Axes>"
            ],
            "image/png": "[encoded data removed]"
          },
          "metadata": {}
        }
      ]
    },
    {
      "cell_type": "markdown",
      "source": [
        "## Data Pre-processing"
      ],
      "metadata": {
        "id": "CUl6pEqw2qUW"
      }
    },
    {
      "cell_type": "code",
      "source": [
        "# Normalization of Images\n",
        "x_train, x_test = x_train / 255.0 , x_test / 255.0"
      ],
      "metadata": {
        "id": "FT-_qLbu1IuS"
      },
      "execution_count": 9,
      "outputs": []
    },
    {
      "cell_type": "markdown",
      "source": [
        "Conv2D accepts a 4 dimension array... (for coloured images)<br>\n",
        "eg:- (60000, 28, 28, 3) <br><br>\n",
        "\n",
        "\n",
        "But our input matrix is of 3 dimesnion"
      ],
      "metadata": {
        "id": "_c4YXxhN254r"
      }
    },
    {
      "cell_type": "code",
      "source": [
        "x_train = x_train[..., tf.newaxis].astype('float32')\n",
        "x_test = x_test[..., tf.newaxis].astype('float32')\n",
        "\n",
        "# Introducing a new axis (..., :- after 3 axis)"
      ],
      "metadata": {
        "id": "mNBCQN-V23pR"
      },
      "execution_count": 10,
      "outputs": []
    },
    {
      "cell_type": "code",
      "source": [
        "x_train.shape"
      ],
      "metadata": {
        "colab": {
          "base_uri": "https://localhost:8080/"
        },
        "id": "sGIgheWr4K5_",
        "outputId": "8c4963e5-2a18-44c8-9beb-e0cb6feb9417"
      },
      "execution_count": 11,
      "outputs": [
        {
          "output_type": "execute_result",
          "data": {
            "text/plain": [
              "(60000, 28, 28, 1)"
            ]
          },
          "metadata": {},
          "execution_count": 11
        }
      ]
    },
    {
      "cell_type": "markdown",
      "source": [
        "## Building Model"
      ],
      "metadata": {
        "id": "TB2YbhlG7ER7"
      }
    },
    {
      "cell_type": "code",
      "source": [
        "# convert data into tensor object\n",
        "# perform shuffling\n",
        "# divide data into batches\n",
        "\n",
        "train_df = tf.data.Dataset.from_tensor_slices((x_train, y_train)).shuffle(10000).batch(32)\n",
        "test_df = tf.data.Dataset.from_tensor_slices((x_test, y_test)).shuffle(10000).batch(32)\n",
        "# 32 -> batch size, in each batch we will have 32 images"
      ],
      "metadata": {
        "id": "1g3fTEgL4M1r"
      },
      "execution_count": 12,
      "outputs": []
    },
    {
      "cell_type": "code",
      "source": [
        "train_df \n",
        "# tensor object"
      ],
      "metadata": {
        "colab": {
          "base_uri": "https://localhost:8080/"
        },
        "id": "EmPXalHi66iv",
        "outputId": "eaf42bfa-1f8f-4144-ab44-b92e4388a491"
      },
      "execution_count": 13,
      "outputs": [
        {
          "output_type": "execute_result",
          "data": {
            "text/plain": [
              "<BatchDataset element_spec=(TensorSpec(shape=(None, 28, 28, 1), dtype=tf.float32, name=None), TensorSpec(shape=(None,), dtype=tf.uint8, name=None))>"
            ]
          },
          "metadata": {},
          "execution_count": 13
        }
      ]
    },
    {
      "cell_type": "code",
      "source": [
        ""
      ],
      "metadata": {
        "id": "G4aEDWki9ATc"
      },
      "execution_count": 13,
      "outputs": []
    },
    {
      "cell_type": "code",
      "source": [
        "# Inhreting the Model class that we have imported\n",
        "class MyModel(Model):\n",
        "\n",
        "  def __init__(self):                 # __init__ -> constructor , self -> like 'this' keyword\n",
        "    super(MyModel, self).__init__()   # calling parent class constructor (Model class init)\n",
        "    \n",
        "    # Model Defn\n",
        "    self.conv1 = Conv2D(32, 3, activation='relu')\n",
        "    self.flatten = Flatten()\n",
        "    self.hidden_layer = Dense(128, activation ='relu')\n",
        "    self.output_layer = Dense(10, activation='softmax')\n",
        "\n",
        "  def call(self, x):\n",
        "    x = self.conv1(x)\n",
        "    x = self.flatten(x)\n",
        "    x = self.hidden_layer(x)\n",
        "    x = self.output_layer(x)\n",
        "    return x\n"
      ],
      "metadata": {
        "id": "yrp2R4Ei67v4"
      },
      "execution_count": 14,
      "outputs": []
    },
    {
      "cell_type": "markdown",
      "source": [
        "Here, 1st layer is not the input layer.<br>\n",
        "1st layer is convolutional layer which will perform some operations on our image.<br>\n",
        "Flatten layer will be the input layer (with some 'n' no. of neurons)"
      ],
      "metadata": {
        "id": "UDHllP_v9OBm"
      }
    },
    {
      "cell_type": "code",
      "source": [
        "model = MyModel()\n",
        "# creating the object of class"
      ],
      "metadata": {
        "id": "oKrXrSjD9Hqy"
      },
      "execution_count": 15,
      "outputs": []
    },
    {
      "cell_type": "code",
      "source": [
        "model"
      ],
      "metadata": {
        "colab": {
          "base_uri": "https://localhost:8080/"
        },
        "id": "urmi9XAj9uma",
        "outputId": "ed93a857-7c18-4d76-88d0-ea0e5e0caea8"
      },
      "execution_count": 16,
      "outputs": [
        {
          "output_type": "execute_result",
          "data": {
            "text/plain": [
              "<__main__.MyModel at 0x7f69f2c30050>"
            ]
          },
          "metadata": {},
          "execution_count": 16
        }
      ]
    },
    {
      "cell_type": "markdown",
      "source": [
        "**Few popular Loss Functions**\n",
        "\n",
        "- Regression\n",
        "   - MSE\n",
        "   - MAE\n",
        "   - Mean Squared Logaritmic Loss\n",
        "\n",
        "- Binary Loss function\n",
        "   - Binary Cross-Entropy\n",
        "   - Hinge Loss\n",
        "   - Squared Hinge Loss\n",
        "\n",
        "- Multi-Class Categorical Loss function\n",
        "   - Multi Class Cross Entropy\n",
        "   - Sparse Categorical Cross Entropy\n",
        "   - KL Divergence Loss"
      ],
      "metadata": {
        "id": "nXixIiNT-cEB"
      }
    },
    {
      "cell_type": "code",
      "source": [
        "loss_object = tf.keras.losses.SparseCategoricalCrossentropy(from_logits = True)"
      ],
      "metadata": {
        "id": "Fd8N1Bkf-L_r"
      },
      "execution_count": 17,
      "outputs": []
    },
    {
      "cell_type": "markdown",
      "source": [
        "**Few popular Optimization Techniques**\n",
        "\n",
        "- Gradient Descent\n",
        "  - Batch Gradient Descent\n",
        "  - Stochastic Gradient Descent\n",
        "  - Mini Batch Gradient Descent\n",
        "\n",
        "- Momentum\n",
        "- AdaGrad\n",
        "- AdaDelta\n",
        "- Adam\n",
        "- RMSProp"
      ],
      "metadata": {
        "id": "VRpz-yW7_TXa"
      }
    },
    {
      "cell_type": "code",
      "source": [
        "optimizer = tf.keras.optimizers.Adam()"
      ],
      "metadata": {
        "id": "b1_dIgfZ_Jkb"
      },
      "execution_count": 18,
      "outputs": []
    },
    {
      "cell_type": "code",
      "source": [
        "train_loss = tf.keras.metrics.Mean(name = 'train_loss')\n",
        "test_loss = tf.keras.metrics.Mean(name = 'test_loss')\n",
        "\n",
        "train_acc = tf.keras.metrics.SparseCategoricalAccuracy(name='train_acc')\n",
        "test_acc = tf.keras.metrics.SparseCategoricalAccuracy(name='test_acc')"
      ],
      "metadata": {
        "id": "R9tnwS0p_6A0"
      },
      "execution_count": 19,
      "outputs": []
    },
    {
      "cell_type": "code",
      "source": [
        "# using Python Decorator\n",
        "\n",
        "@tf.function\n",
        "def train_step(images, labels):\n",
        "  with tf.GradientTape() as tape:\n",
        "    predictions = model(images, training = True)\n",
        "    loss = loss_object(labels, predictions)\n",
        "\n",
        "  gradients = tape.gradient(loss, model.trainable_variables)        # trainable variables -> weights, bias\n",
        "  optimizer.apply_gradients(zip(gradients, model.trainable_variables))\n",
        "\n",
        "  train_loss(loss)\n",
        "  train_acc(labels, predictions)"
      ],
      "metadata": {
        "id": "6LLKdAt8A4yG"
      },
      "execution_count": 24,
      "outputs": []
    },
    {
      "cell_type": "code",
      "source": [
        "@tf.function\n",
        "def test_step(images, labels):\n",
        "  predictions = model(images, training = False)\n",
        "  loss = loss_object(labels, predictions)\n",
        "\n",
        "  test_loss(loss)\n",
        "  test_acc(labels, predictions)"
      ],
      "metadata": {
        "id": "IGYaAMX95F2s"
      },
      "execution_count": 25,
      "outputs": []
    },
    {
      "cell_type": "code",
      "source": [
        "epochs = 5\n",
        "for epoch in range(epochs):\n",
        "\n",
        "  train_loss.reset_states()\n",
        "  train_acc.reset_states()\n",
        "  test_loss.reset_states()\n",
        "  test_acc.reset_states()\n",
        "  \n",
        "  for images, labels in train_df:\n",
        "    train_step(images, labels)\n",
        "\n",
        "  for images, labels in test_df:\n",
        "    test_step(images, labels)\n",
        "\n",
        "  print(\"Epoch : {}, TrainLoss : {}, TrainAccuracy : {}, TestLoss : {}, TestAccuracy : {}\".format(epoch,\n",
        "                                                                                   train_loss.result(),\n",
        "                                                                                   train_acc.result(),\n",
        "                                                                                   test_loss.result(),\n",
        "                                                                                   test_acc.result()))"
      ],
      "metadata": {
        "id": "cLC0H5jf-SoG",
        "colab": {
          "base_uri": "https://localhost:8080/"
        },
        "outputId": "49a6073f-de75-4e61-8d47-53a2d2804655"
      },
      "execution_count": 28,
      "outputs": [
        {
          "output_type": "stream",
          "name": "stdout",
          "text": [
            "Epoch : 0, TrainLoss : 0.110188327729702, TrainAccuracy : 0.9589333534240723, TestLoss : 0.2971610724925995, TestAccuracy : 0.90420001745224\n",
            "Epoch : 1, TrainLoss : 0.08365193009376526, TrainAccuracy : 0.9700833559036255, TestLoss : 0.31391867995262146, TestAccuracy : 0.9089000225067139\n",
            "Epoch : 2, TrainLoss : 0.06383300572633743, TrainAccuracy : 0.9774166941642761, TestLoss : 0.3608764410018921, TestAccuracy : 0.9082000255584717\n",
            "Epoch : 3, TrainLoss : 0.0490354560315609, TrainAccuracy : 0.9821833372116089, TestLoss : 0.39345255494117737, TestAccuracy : 0.9056000113487244\n",
            "Epoch : 4, TrainLoss : 0.03718291595578194, TrainAccuracy : 0.9867333173751831, TestLoss : 0.4295646548271179, TestAccuracy : 0.9082000255584717\n"
          ]
        }
      ]
    },
    {
      "cell_type": "code",
      "source": [
        ""
      ],
      "metadata": {
        "id": "UEUztiKazPPe"
      },
      "execution_count": null,
      "outputs": []
    }
  ]
}